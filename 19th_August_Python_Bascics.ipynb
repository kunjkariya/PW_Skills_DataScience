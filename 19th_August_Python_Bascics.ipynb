{
 "cells": [
  {
   "cell_type": "markdown",
   "id": "fefde0ad-6ea9-4079-a74a-f1584877cc6f",
   "metadata": {},
   "source": [
    "TOPIC : PythonBasicsVariable"
   ]
  },
  {
   "cell_type": "markdown",
   "id": "a90db6ad-288d-46c1-bb73-283d63a804c4",
   "metadata": {},
   "source": [
    "1. Declare two variables, `x` and `y`, and assign them integer values. Swap the values of these              variables without using any temporary variable."
   ]
  },
  {
   "cell_type": "code",
   "execution_count": 61,
   "id": "ec1d0d90-2457-40c6-9df4-37987d1e6519",
   "metadata": {},
   "outputs": [],
   "source": [
    "X=10\n",
    "Y=20"
   ]
  },
  {
   "cell_type": "code",
   "execution_count": 62,
   "id": "564247e1-af10-4f7f-be49-6fc0603d77fd",
   "metadata": {},
   "outputs": [],
   "source": [
    "#here we are replacing x with y\n",
    "X,Y=Y,X "
   ]
  },
  {
   "cell_type": "code",
   "execution_count": 63,
   "id": "8b845a31-4bdd-4744-b69a-a391ef13478c",
   "metadata": {},
   "outputs": [
    {
     "data": {
      "text/plain": [
       "20"
      ]
     },
     "execution_count": 63,
     "metadata": {},
     "output_type": "execute_result"
    }
   ],
   "source": [
    "X"
   ]
  },
  {
   "cell_type": "code",
   "execution_count": 64,
   "id": "c5945274-0f5f-460d-b601-5eca2285e2b0",
   "metadata": {},
   "outputs": [
    {
     "data": {
      "text/plain": [
       "10"
      ]
     },
     "execution_count": 64,
     "metadata": {},
     "output_type": "execute_result"
    }
   ],
   "source": [
    "Y"
   ]
  },
  {
   "cell_type": "markdown",
   "id": "f3090e05-10f7-47e9-9674-0eb20db013cc",
   "metadata": {},
   "source": [
    "2. Create a program that calculates the area of a rectangle. Take the length and width as inputs \n",
    "   from the user and store them in variables. Calculate and display the area.\n"
   ]
  },
  {
   "cell_type": "code",
   "execution_count": 65,
   "id": "8a369a9e-3bea-4416-91a7-b2f35860078b",
   "metadata": {},
   "outputs": [
    {
     "name": "stdin",
     "output_type": "stream",
     "text": [
      " 6\n"
     ]
    }
   ],
   "source": [
    "#take input from user in float so that answer we get is accurate\n",
    "length=float(input())"
   ]
  },
  {
   "cell_type": "code",
   "execution_count": 66,
   "id": "f366b49f-ce39-4a24-b82e-00243a1ae3b3",
   "metadata": {},
   "outputs": [
    {
     "name": "stdin",
     "output_type": "stream",
     "text": [
      " 2\n"
     ]
    }
   ],
   "source": [
    "width=float(input())"
   ]
  },
  {
   "cell_type": "code",
   "execution_count": 67,
   "id": "bb5f4ebe-34fe-43f4-9026-909324afbb74",
   "metadata": {},
   "outputs": [
    {
     "name": "stdout",
     "output_type": "stream",
     "text": [
      "12.0\n"
     ]
    }
   ],
   "source": [
    "#first apply the formula of area of rectangle and then print that area\n",
    "area_of_rectangle=length*width\n",
    "print(area_of_rectangle)"
   ]
  },
  {
   "cell_type": "markdown",
   "id": "37cd728c-d9ac-4613-bc53-3762080c15c4",
   "metadata": {},
   "source": [
    "3. Write a Python program that converts temperature from Celsius to Fahrenheit. Take the temperature in      Celsius as input, store it in a variable, convert it to Fahrenheit, and display the result.\n"
   ]
  },
  {
   "cell_type": "code",
   "execution_count": 68,
   "id": "ef6b3911-876b-4d9d-a91b-7373c7504e25",
   "metadata": {},
   "outputs": [
    {
     "name": "stdin",
     "output_type": "stream",
     "text": [
      " 34\n"
     ]
    }
   ],
   "source": [
    "#take input from user in float so that answer we get is accurate\n",
    "#temperature we take as input is in celsius\n",
    "temp_in_celsius=float(input())"
   ]
  },
  {
   "cell_type": "code",
   "execution_count": 74,
   "id": "f4b39bc1-869c-4b1e-8751-03aa5642f8f3",
   "metadata": {},
   "outputs": [],
   "source": [
    "#here we convert temperature from Celsius to Fahrenheit by using formula \n",
    "temp_in_Fahrenheit=(temp_in_celsius*(9/5))+32"
   ]
  },
  {
   "cell_type": "code",
   "execution_count": 75,
   "id": "10bc6244-0eb9-4de8-bd02-ebabf98ec029",
   "metadata": {},
   "outputs": [
    {
     "data": {
      "text/plain": [
       "93.2"
      ]
     },
     "execution_count": 75,
     "metadata": {},
     "output_type": "execute_result"
    }
   ],
   "source": [
    "#after that we simply print the value of temperature in Fahrenheit\n",
    "temp_in_Fahrenheit"
   ]
  },
  {
   "cell_type": "markdown",
   "id": "ba3f4118-ab2b-4194-89da-f7d0112e8de1",
   "metadata": {},
   "source": [
    "TOPIC : StringBasedQuestions"
   ]
  },
  {
   "cell_type": "markdown",
   "id": "b011b088-670a-4464-ae94-e7ef0b1e85a9",
   "metadata": {},
   "source": [
    "1. Write a Python program that takes a string as input and prints the length of the string."
   ]
  },
  {
   "cell_type": "code",
   "execution_count": null,
   "id": "5845a5e5-98b1-4cf6-a398-8a6f0e7c9a59",
   "metadata": {},
   "outputs": [],
   "source": [
    "string=str(input())"
   ]
  },
  {
   "cell_type": "code",
   "execution_count": null,
   "id": "e60bfe50-04e2-4b1d-97f7-218cd2ca2ba0",
   "metadata": {},
   "outputs": [],
   "source": [
    "#this is length function used to count the string,it also includes spaces\n",
    "len(string)"
   ]
  },
  {
   "cell_type": "markdown",
   "id": "65c0c1e0-7806-404f-9907-f760be62a369",
   "metadata": {},
   "source": [
    "2. Create a program that takes a sentence from the user and counts the number of vowels (a, e, i, o, u)      in the string."
   ]
  },
  {
   "cell_type": "code",
   "execution_count": null,
   "id": "f34f06a5-4b78-4b4d-bee0-25a1712e782d",
   "metadata": {},
   "outputs": [],
   "source": [
    "#take input from user in string \n",
    "input_string=str(input())"
   ]
  },
  {
   "cell_type": "code",
   "execution_count": null,
   "id": "681f017a-2da3-4e79-beba-f3fd67a22135",
   "metadata": {},
   "outputs": [],
   "source": [
    "#here we convert string in small alphabets so that we can calculate in one shot \n",
    "#it is also an efficient way to calculate \n",
    "string=input_string.lower()"
   ]
  },
  {
   "cell_type": "code",
   "execution_count": null,
   "id": "0e788a35-3d83-4018-8428-3b760bd426d6",
   "metadata": {},
   "outputs": [],
   "source": [
    "#name vowels and assign them aeiou\n",
    "vowels = \"aeiou\""
   ]
  },
  {
   "cell_type": "code",
   "execution_count": null,
   "id": "fb679feb-d2fb-4c25-93c5-6be39f63a2ea",
   "metadata": {},
   "outputs": [],
   "source": [
    "#here we apply for loop so that it can iterate through each variable in vowels\n",
    "#For each vowel, we use the count method on input_string \n",
    "#in the end we use sum function to count the total vowels\n",
    "#then use print function to print final answer\n",
    "vowel_count = sum(string.count(vowel) for vowel in vowels)\n",
    " print(vowel_count)"
   ]
  },
  {
   "cell_type": "markdown",
   "id": "f31e6692-4d90-4a4e-b5c2-f2db489d5f66",
   "metadata": {},
   "source": [
    "3. Given a string, reverse the order of characters using string slicing and print the reversed string."
   ]
  },
  {
   "cell_type": "code",
   "execution_count": null,
   "id": "16512d0e-9337-426e-a110-60077c878da5",
   "metadata": {},
   "outputs": [],
   "source": [
    "input_string=str(input())"
   ]
  },
  {
   "cell_type": "code",
   "execution_count": null,
   "id": "bacab84a-e658-43e6-8868-50480b34b219",
   "metadata": {},
   "outputs": [],
   "source": [
    "#Use string slicing to reverse the string.\n",
    "input_string[::-1]"
   ]
  },
  {
   "cell_type": "markdown",
   "id": "2dcdac28-e86f-42ca-a682-370925cc618d",
   "metadata": {},
   "source": [
    "4. Write a program that takes a string as input and checks if it is a palindrome (reads the same forwards and backwards)."
   ]
  },
  {
   "cell_type": "code",
   "execution_count": null,
   "id": "990e975c-8dae-492d-bdad-b1f11eb59669",
   "metadata": {},
   "outputs": [],
   "source": [
    "input_string=str(input())"
   ]
  },
  {
   "cell_type": "code",
   "execution_count": null,
   "id": "b9959d99-5fac-41b3-9f2a-2907be5b6195",
   "metadata": {},
   "outputs": [],
   "source": [
    "#Use string slicing to reverse the string.\n",
    "reversed_string=input_string[::-1]"
   ]
  },
  {
   "cell_type": "code",
   "execution_count": null,
   "id": "94e71333-ff47-4ca9-b0e3-3370bf5e6d6c",
   "metadata": {},
   "outputs": [],
   "source": [
    "#here we use if_else statement from which we can define is this is an palindrome or not\n",
    "if input_string == reversed_string:\n",
    "    print(\"The input string is a palindrome.\")\n",
    "else:\n",
    "    print(\"The input string is not a palindrome.\")"
   ]
  },
  {
   "cell_type": "markdown",
   "id": "e408f253-0a9d-4bb9-989e-9486e54af1a7",
   "metadata": {},
   "source": [
    "5. Create a program that takes a string as input and removes all the spaces from it. Print the modified string without spaces."
   ]
  },
  {
   "cell_type": "code",
   "execution_count": null,
   "id": "fbc28a00-8a70-4eb4-a88f-62c29c288fd2",
   "metadata": {},
   "outputs": [],
   "source": [
    "input_string=str(input())"
   ]
  },
  {
   "cell_type": "code",
   "execution_count": null,
   "id": "0976d280-6639-4b2c-8997-e423f9aef291",
   "metadata": {},
   "outputs": [],
   "source": [
    "#It removes spaces from the input string by using the replace method\n",
    "#it converts it to lowercase by lower function\n",
    "#This step ensures that the program accurately checks regardless of letter case\n",
    "##after that we simply print modified string\n",
    "modified_string=input_string.replace(\" \", \"\").lower()\n",
    "print(modified_string)"
   ]
  }
 ],
 "metadata": {
  "kernelspec": {
   "display_name": "Python 3 (ipykernel)",
   "language": "python",
   "name": "python3"
  },
  "language_info": {
   "codemirror_mode": {
    "name": "ipython",
    "version": 3
   },
   "file_extension": ".py",
   "mimetype": "text/x-python",
   "name": "python",
   "nbconvert_exporter": "python",
   "pygments_lexer": "ipython3",
   "version": "3.10.8"
  }
 },
 "nbformat": 4,
 "nbformat_minor": 5
}
